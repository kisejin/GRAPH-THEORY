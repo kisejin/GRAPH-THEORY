{
 "cells": [
  {
   "cell_type": "code",
   "execution_count": 1,
   "metadata": {},
   "outputs": [],
   "source": [
    "from collections import defaultdict\n",
    "import numpy as np \n",
    "import DFS\n",
    "import BFS\n",
    "import UCS\n",
    "\n",
    "\n",
    "# Create abstract class Graph\n",
    "    # Subclass graph_not weight\n",
    "    # Sub class graph weight \n",
    "\n",
    "class Graph_my: \n",
    "    def __init__(self, size = (0,0), start = 0, end = 0):\n",
    "        self.size = size\n",
    "        self.start = start\n",
    "        self.end = end\n",
    "        self.path = []\n",
    "        self.cost = 0\n",
    "        if size == (0,0):\n",
    "            self.graph = defaultdict(list)\n",
    "        \n",
    "    @property\n",
    "    def start(self):\n",
    "        return self._start\n",
    "    \n",
    "    @property\n",
    "    def end(self):\n",
    "        return self._end\n",
    "    \n",
    "    @start.setter\n",
    "    def start(self, start):\n",
    "        if type(start) is  not int:\n",
    "            raise ValueError(\"Wrong parameter\")\n",
    "        self._start = start\n",
    "    \n",
    "    @end.setter\n",
    "    def end(self, end):\n",
    "        if type(end) is  not int:\n",
    "            raise ValueError(\"Wrong parameter\")\n",
    "        self._end = end\n",
    "    \n",
    "    def __str__(self):\n",
    "        return f\"{self._start} to {self._end}\""
   ]
  },
  {
   "cell_type": "code",
   "execution_count": 2,
   "metadata": {},
   "outputs": [
    {
     "name": "stdout",
     "output_type": "stream",
     "text": [
      "0 to 1\n"
     ]
    }
   ],
   "source": [
    "graph = Graph_my()\n",
    "graph._start = 0\n",
    "graph._end = 1\n",
    "print(graph)"
   ]
  },
  {
   "cell_type": "code",
   "execution_count": 56,
   "metadata": {},
   "outputs": [],
   "source": [
    "from queue import PriorityQueue\n",
    "\n",
    "def change_in_queue(frontier, node, weight, current_w):\n",
    "    lst = []\n",
    "    check = 0\n",
    "    # while not frontier.empty():\n",
    "    #     tmp_cost, tmp_node = frontier.get()\n",
    "    #     if tmp_node == node and tmp_cost > current_w + weight:\n",
    "    #         check = 1\n",
    "    #         tmp_cost = current_w + weight\n",
    "    #         frontier.put((tmp_cost,node))\n",
    "    #         while not lst:\n",
    "    #             frontier.put(lst.pop())\n",
    "    #         return check\n",
    "    #     else:\n",
    "    #         lst.append((tmp_cost, tmp_node))\n",
    "    # [frontier.put(lst.pop()) for l in lst]\n",
    "    # return check\n",
    "    tmp_cost, tmp_node = frontier.get()\n",
    "    while tmp_node != node:\n",
    "        lst.append((tmp_cost, tmp_node))\n",
    "        tmp_cost, tmp_node = frontier.get()\n",
    "    if (tmp_cost > current_w + weight):\n",
    "        check = 1\n",
    "        tmp_cost = current_w + weight\n",
    "        frontier.put((tmp_cost,node))\n",
    "    while not lst:\n",
    "        frontier.put(lst.pop())\n",
    "    return check\n",
    "\n",
    "def UCS(graph, start, end):\n",
    "    visited = []\n",
    "    frontier = PriorityQueue()\n",
    "\n",
    "    # Add node start to frontier and visited\n",
    "    frontier.put((0, start))\n",
    "    visited.append(start)\n",
    "\n",
    "    # Start hasn't parent node\n",
    "    parent = dict()\n",
    "    parent[start] = None\n",
    "    path_found = False\n",
    "\n",
    "    while True:\n",
    "        if frontier.empty():\n",
    "            raise Exception(\"No way Exception\")\n",
    "        current_w, current_node = frontier.get()\n",
    "        visited.append(current_node)\n",
    "\n",
    "        # Check current_node is end or not\n",
    "        if current_node == end:\n",
    "            path_found = True\n",
    "            \n",
    "            # Build path\n",
    "            path = []\n",
    "            if path_found:\n",
    "                path.append(end)\n",
    "                while parent[end] is not None:\n",
    "                    path.append(parent[end])\n",
    "                    end = parent[end]\n",
    "                path.reverse()\n",
    "                \n",
    "            return current_w, path\n",
    "\n",
    "\n",
    "        for nodei in graph[current_node]:\n",
    "            node, weight = nodei\n",
    "            if node not in visited: \n",
    "                frontier.put((current_w + weight, node))\n",
    "                parent[node] = current_node\n",
    "                visited.append(node)\n",
    "                print(frontier.queue,'\\n')\n",
    "                # print(parent,'\\n')\n",
    "                # print(visited,'\\n')\n",
    "            elif change_in_queue(frontier, node, weight, current_w):\n",
    "                parent[node] = current_node\n",
    "                continue \n",
    "        "
   ]
  },
  {
   "cell_type": "code",
   "execution_count": 46,
   "metadata": {},
   "outputs": [],
   "source": [
    "from queue import PriorityQueue\n"
   ]
  },
  {
   "cell_type": "code",
   "execution_count": 57,
   "metadata": {},
   "outputs": [
    {
     "name": "stdout",
     "output_type": "stream",
     "text": [
      "[(3, 'd')] \n",
      "\n",
      "[(1, 'p'), (3, 'd')] \n",
      "\n",
      "[(1, 'p'), (3, 'd'), (9, 'e')] \n",
      "\n",
      "[(3, 'd'), (9, 'e'), (16, 'q')] \n",
      "\n",
      "[(4, 'b'), (16, 'q'), (9, 'e')] \n",
      "\n",
      "[(4, 'b'), (11, 'c'), (9, 'e'), (16, 'q')] \n",
      "\n",
      "Result when using UCS: \n",
      " ['START', 'd', 'e'] with total cost: \n",
      " 5\n"
     ]
    }
   ],
   "source": [
    "graph = {'START': [('d', 3), ('p', 1), ('e', 9)],\n",
    "             'd': [('b', 1), ('c', 8), ('e', 2)],\n",
    "             'p': [('q', 15)],\n",
    "             'b': [('a', 2)],\n",
    "             'c': [('f', 5), ('a', 2)],\n",
    "             'e': [('r', 9), ('h', 1)],\n",
    "             'h': [('q', 4), ('p', 4)],\n",
    "             'f': [('GOAL', 5)],\n",
    "             'q': [('r', 3)],\n",
    "             'a': [],\n",
    "             'r': [('f', 5)],\n",
    "             'GOAL': []\n",
    "             }\n",
    "cost, result_ucs = UCS(graph, 'START', 'e')\n",
    "print('Result when using UCS: \\n', result_ucs, 'with total cost: \\n', cost)"
   ]
  }
 ],
 "metadata": {
  "kernelspec": {
   "display_name": "Python 3.10.4 ('py10')",
   "language": "python",
   "name": "python3"
  },
  "language_info": {
   "codemirror_mode": {
    "name": "ipython",
    "version": 3
   },
   "file_extension": ".py",
   "mimetype": "text/x-python",
   "name": "python",
   "nbconvert_exporter": "python",
   "pygments_lexer": "ipython3",
   "version": "3.10.4"
  },
  "orig_nbformat": 4,
  "vscode": {
   "interpreter": {
    "hash": "827c0da533eb6b235dd1d02f169f32813125c10c2d4e32a5bf587f4600b91bd0"
   }
  }
 },
 "nbformat": 4,
 "nbformat_minor": 2
}
